{
 "cells": [
  {
   "cell_type": "markdown",
   "id": "4c0519ca",
   "metadata": {},
   "source": [
    "# feature generation"
   ]
  },
  {
   "cell_type": "code",
   "execution_count": null,
   "id": "2e662778",
   "metadata": {},
   "outputs": [],
   "source": [
    "from padelpy import padeldescriptor\n",
    "from mordred import Calculator, descriptors\n",
    "import pandas as pd\n",
    "from rdkit import Chem\n",
    "\n",
    "sdf_dir = \"path to SDF or SMILES files\"\n",
    "\n",
    "# PaDEL\n",
    "padeldescriptor(\n",
    "    d_2d=True,\n",
    "    d_3d=True,\n",
    "    detectaromaticity=True,\n",
    "    maxruntime=120000,\n",
    "    mol_dir=sdf_dir,\n",
    "    d_file=\"PaDEL.csv\",\n",
    "    retain3d=True,\n",
    "    usefilenameasmolname=True,\n",
    "    headless=True,\n",
    ")\n",
    "df_PaDEL = pd.read_csv(\"PaDEL.csv\", index_col=0)\n",
    "df_PaDEL = df_PaDEL.add_prefix(\"p_\")\n",
    "\n",
    "\n",
    "# mordred\n",
    "calc = Calculator(descriptors, ignore_3D=False)\n",
    "files = list(Path(sdf_dir).glob(\"*.sdf\"))\n",
    "mols = [Chem.MolFromMolFile(str(f)) for f in files]\n",
    "IDs = [f.stem for f in files]\n",
    "df = calc.pandas(mols)\n",
    "df = df.apply(pd.to_numeric, errors=\"coerce\")\n",
    "df.index = IDs\n",
    "df_mordred = df.add_prefix(\"m_\")\n",
    "\n",
    "# concatenation of all features and preprocessing/normalisation"
   ]
  },
  {
   "cell_type": "markdown",
   "id": "b4ccf55d",
   "metadata": {},
   "source": [
    "# model training"
   ]
  },
  {
   "cell_type": "code",
   "execution_count": null,
   "id": "c7591168",
   "metadata": {},
   "outputs": [],
   "source": [
    "import itertools\n",
    "import numpy as np\n",
    "import pandas as pd\n",
    "import torch\n",
    "from torch.optim import Adam\n",
    "from torch.utils.data import DataLoader\n",
    "from prototorch import initializers, models\n",
    "from prototorch.datasets.abstract import NumpyDataset\n",
    "from pytorch_lightning import Trainer\n",
    "from sklearn.metrics import accuracy_score, confusion_matrix, matthews_corrcoef\n",
    "from sklearn.model_selection import train_test_split\n",
    "\n",
    "\n",
    "# BEFORE: split data into test, training and validation subsets\n",
    "# according to the ADMETLab2.0 data or randomly\n",
    "if randomCV:\n",
    "    x_train, x_test, y_train, y_test = train_test_split(\n",
    "        np.array(data),\n",
    "        targets,\n",
    "        test_size=test_size, # set to similar values like in ADMETLab's original CV\n",
    "        random_state=random_state,\n",
    "        shuffle=True,\n",
    "        stratify=targets,\n",
    "    )\n",
    "\n",
    "    x_train, x_valid, y_train, y_valid = train_test_split(\n",
    "        x_train,\n",
    "        y_train,\n",
    "        test_size=valid_size, # set to similar values like in ADMETLab's original CV\n",
    "        random_state=random_state,\n",
    "        shuffle=True,\n",
    "    )\n",
    "\n",
    "\n",
    "train_ds = NumpyDataset(x_train, y_train)\n",
    "val_ds = NumpyDataset(x_val, y_val)\n",
    "train_loader = DataLoader(train_ds)\n",
    "val_loader = DataLoader(val_ds)\n",
    "\n",
    "# Hyperparameters\n",
    "hparams = dict(\n",
    "    input_dim=train_ds.data.shape[1],\n",
    "    latent_dim=___,\n",
    "    distribution={\n",
    "        \"num_classes\": ___,\n",
    "        \"per_class\": ___,\n",
    "    },\n",
    ")\n",
    "\n",
    "# Initialize the model\n",
    "model = models.GMLVQ(\n",
    "    hparams,\n",
    "    optimizer=Adam,\n",
    "    prototypes_initializer=initializers.SMCI(train_ds),\n",
    "    omega_initializer=initializers.PCALTI(train_ds.data),\n",
    ")\n",
    "\n",
    "trainer_kwargs = {} # for device and logging settings\n",
    "trainer = Trainer(**trainer_kwargs)\n",
    "\n",
    "# Training loop\n",
    "trainer.fit(model, train_loader, val_loader)"
   ]
  },
  {
   "cell_type": "markdown",
   "id": "f7d31163",
   "metadata": {},
   "source": [
    "# test"
   ]
  },
  {
   "cell_type": "code",
   "execution_count": null,
   "id": "3d056381",
   "metadata": {},
   "outputs": [],
   "source": [
    "# ...continues\n",
    "preds = model.predict(torch.Tensor(np.array(x_test))).tolist()\n",
    "auc = roc_auc_score(y_test, preds)\n",
    "acc = accuracy_score(y_test, preds)\n",
    "mcc = matthews_corrcoef(y_test, preds)\n",
    "cm = confusion_matrix(y_test, preds)\n",
    "tn, fp, fn, tp = cm.ravel()\n",
    "specificity = tn / (fp + tn)\n",
    "sensitivity = tp / (tp + fn)"
   ]
  }
 ],
 "metadata": {
  "kernelspec": {
   "display_name": "final_model",
   "language": "python",
   "name": "final_model"
  },
  "language_info": {
   "codemirror_mode": {
    "name": "ipython",
    "version": 3
   },
   "file_extension": ".py",
   "mimetype": "text/x-python",
   "name": "python",
   "nbconvert_exporter": "python",
   "pygments_lexer": "ipython3",
   "version": "3.10.10"
  }
 },
 "nbformat": 4,
 "nbformat_minor": 5
}
